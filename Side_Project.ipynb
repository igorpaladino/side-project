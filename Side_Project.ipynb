{
  "nbformat": 4,
  "nbformat_minor": 0,
  "metadata": {
    "colab": {
      "name": "Side Project.ipynb",
      "version": "0.3.2",
      "provenance": [],
      "collapsed_sections": []
    },
    "kernelspec": {
      "name": "python3",
      "display_name": "Python 3"
    },
    "accelerator": "GPU"
  },
  "cells": [
    {
      "metadata": {
        "id": "5Um4VLs96bDi",
        "colab_type": "text"
      },
      "cell_type": "markdown",
      "source": [
        "## Configuration of colab environment"
      ]
    },
    {
      "metadata": {
        "id": "rczMJVkIsJKg",
        "colab_type": "code",
        "outputId": "436a952c-c55c-49a6-83b9-307e19a72a04",
        "colab": {
          "base_uri": "https://localhost:8080/",
          "height": 129
        }
      },
      "cell_type": "code",
      "source": [
        "# Mounting drive\n",
        "from google.colab import drive\n",
        "drive.mount('/content/gdrive',force_remount=True)"
      ],
      "execution_count": 1,
      "outputs": [
        {
          "output_type": "stream",
          "text": [
            "Go to this URL in a browser: https://accounts.google.com/o/oauth2/auth?client_id=947318989803-6bn6qk8qdgf4n4g3pfee6491hc0brc4i.apps.googleusercontent.com&redirect_uri=urn%3Aietf%3Awg%3Aoauth%3A2.0%3Aoob&scope=email%20https%3A%2F%2Fwww.googleapis.com%2Fauth%2Fdocs.test%20https%3A%2F%2Fwww.googleapis.com%2Fauth%2Fdrive%20https%3A%2F%2Fwww.googleapis.com%2Fauth%2Fdrive.photos.readonly%20https%3A%2F%2Fwww.googleapis.com%2Fauth%2Fpeopleapi.readonly&response_type=code\n",
            "\n",
            "Enter your authorization code:\n",
            "··········\n",
            "Mounted at /content/gdrive\n"
          ],
          "name": "stdout"
        }
      ]
    },
    {
      "metadata": {
        "id": "flHMaX7-sM1b",
        "colab_type": "code",
        "colab": {
          "base_uri": "https://localhost:8080/",
          "height": 55
        },
        "outputId": "615b22ac-1345-4683-bd3f-81fcdcb68441"
      },
      "cell_type": "code",
      "source": [
        "# Loading libraries\n",
        "# http://pytorch.org/\n",
        "from os.path import exists\n",
        "from wheel.pep425tags import get_abbr_impl, get_impl_ver, get_abi_tag\n",
        "platform = '{}{}-{}'.format(get_abbr_impl(), get_impl_ver(), get_abi_tag())\n",
        "cuda_output = !ldconfig -p|grep cudart.so|sed -e 's/.*\\.\\([0-9]*\\)\\.\\([0-9]*\\)$/cu\\1\\2/'\n",
        "accelerator = cuda_output[0] if exists('/dev/nvidia0') else 'cpu'\n",
        "\n",
        "!pip install -q http://download.pytorch.org/whl/{accelerator}/torch-0.4.1-{platform}-linux_x86_64.whl torchvision"
      ],
      "execution_count": 2,
      "outputs": [
        {
          "output_type": "stream",
          "text": [
            "tcmalloc: large alloc 1073750016 bytes == 0x58da4000 @  0x7feecafa42a4 0x591a07 0x5b5d56 0x502e9a 0x506859 0x502209 0x502f3d 0x506859 0x504c28 0x502540 0x502f3d 0x506859 0x504c28 0x502540 0x502f3d 0x506859 0x504c28 0x502540 0x502f3d 0x507641 0x502209 0x502f3d 0x506859 0x504c28 0x502540 0x502f3d 0x507641 0x504c28 0x502540 0x502f3d 0x507641\n"
          ],
          "name": "stdout"
        }
      ]
    },
    {
      "metadata": {
        "id": "XthVsPfEERPp",
        "colab_type": "code",
        "outputId": "71edec21-9322-4fa1-d385-7ddcc7971de2",
        "colab": {
          "base_uri": "https://localhost:8080/",
          "height": 368
        }
      },
      "cell_type": "code",
      "source": [
        "!pip install Pillow==4.1.0\n",
        "!pip install PIL\n",
        "!pip install Image"
      ],
      "execution_count": 3,
      "outputs": [
        {
          "output_type": "stream",
          "text": [
            "Collecting Pillow==4.1.0\n",
            "\u001b[?25l  Downloading https://files.pythonhosted.org/packages/e7/14/ce7a5cc750ae3a8506d57997d4f18a0674fe45dd843882b9580f06b6d8f1/Pillow-4.1.0-cp36-cp36m-manylinux1_x86_64.whl (5.7MB)\n",
            "\u001b[K    100% |████████████████████████████████| 5.7MB 5.9MB/s \n",
            "\u001b[?25hRequirement already satisfied: olefile in /usr/local/lib/python3.6/dist-packages (from Pillow==4.1.0) (0.46)\n",
            "\u001b[31mtorchvision 0.2.1 has requirement pillow>=4.1.1, but you'll have pillow 4.1.0 which is incompatible.\u001b[0m\n",
            "Installing collected packages: Pillow\n",
            "  Found existing installation: Pillow 5.4.1\n",
            "    Uninstalling Pillow-5.4.1:\n",
            "      Successfully uninstalled Pillow-5.4.1\n",
            "Successfully installed Pillow-4.1.0\n",
            "Collecting PIL\n",
            "\u001b[31m  Could not find a version that satisfies the requirement PIL (from versions: )\u001b[0m\n",
            "\u001b[31mNo matching distribution found for PIL\u001b[0m\n",
            "Requirement already satisfied: Image in /usr/local/lib/python3.6/dist-packages (1.5.27)\n",
            "Requirement already satisfied: django in /usr/local/lib/python3.6/dist-packages (from Image) (2.1.4)\n",
            "Requirement already satisfied: pillow in /usr/local/lib/python3.6/dist-packages (from Image) (4.1.0)\n",
            "Requirement already satisfied: pytz in /usr/local/lib/python3.6/dist-packages (from django->Image) (2018.7)\n",
            "Requirement already satisfied: olefile in /usr/local/lib/python3.6/dist-packages (from pillow->Image) (0.46)\n"
          ],
          "name": "stdout"
        }
      ]
    },
    {
      "metadata": {
        "id": "IWndnXdZKH77",
        "colab_type": "text"
      },
      "cell_type": "markdown",
      "source": [
        "## Importing libraries"
      ]
    },
    {
      "metadata": {
        "id": "hleiyL2CsoOy",
        "colab_type": "code",
        "colab": {}
      },
      "cell_type": "code",
      "source": [
        "import cv2\n",
        "import torch\n",
        "from sklearn.model_selection import train_test_split\n",
        "\n",
        "import numpy as np\n",
        "import matplotlib.pyplot as plt\n",
        "\n",
        "from time import time\n",
        "from copy import deepcopy\n",
        "from matplotlib import gridspec\n",
        "from torchvision import datasets, models, transforms"
      ],
      "execution_count": 0,
      "outputs": []
    },
    {
      "metadata": {
        "id": "ImQM64_j7j_w",
        "colab_type": "text"
      },
      "cell_type": "markdown",
      "source": [
        "## Setting parameters"
      ]
    },
    {
      "metadata": {
        "id": "y438I3_C3vuZ",
        "colab_type": "code",
        "colab": {}
      },
      "cell_type": "code",
      "source": [
        "# Detect if we have a GPU available\n",
        "device = torch.device(\"cuda:0\" if torch.cuda.is_available() else \"cpu\")\n",
        "\n",
        "# Model parameters\n",
        "batch_size = 4\n",
        "num_classes = 4\n",
        "num_epochs = 20\n",
        "input_size = 224\n",
        "\n",
        "# root path to drive\n",
        "root_path = 'gdrive/My Drive/'"
      ],
      "execution_count": 0,
      "outputs": []
    },
    {
      "metadata": {
        "id": "Wj7l6RoY7DLj",
        "colab_type": "text"
      },
      "cell_type": "markdown",
      "source": [
        "## Loading data"
      ]
    },
    {
      "metadata": {
        "id": "LpvQZOURY2IM",
        "colab_type": "code",
        "colab": {}
      },
      "cell_type": "code",
      "source": [
        "class ImageFolderWithPath(datasets.ImageFolder):    \n",
        "    def __getitem__(self, index):\n",
        "        \"\"\"\n",
        "        Args:\n",
        "            index (int): Index\n",
        "        Returns:\n",
        "            tuple: (sample, target) where target is class_index of the target class.\n",
        "        \"\"\"\n",
        "        path, target = self.samples[index]\n",
        "        sample = self.loader(path)\n",
        "        if self.transform is not None:\n",
        "            sample = self.transform(sample)\n",
        "        if self.target_transform is not None:\n",
        "            target = self.target_transform(target)\n",
        "\n",
        "        return sample, target, path"
      ],
      "execution_count": 0,
      "outputs": []
    },
    {
      "metadata": {
        "id": "NNjE6Yad4sde",
        "colab_type": "code",
        "colab": {}
      },
      "cell_type": "code",
      "source": [
        "transform = transforms.Compose([\n",
        "        transforms.Resize([input_size, input_size]),\n",
        "        transforms.ToTensor(),\n",
        "        transforms.Normalize([0.5, 0.5, 0.5], [0.5, 0.5, 0.5])\n",
        "    ])"
      ],
      "execution_count": 0,
      "outputs": []
    },
    {
      "metadata": {
        "id": "59qk7Rehsvon",
        "colab_type": "code",
        "colab": {}
      },
      "cell_type": "code",
      "source": [
        "data_dir = root_path+'Fotos - Side Project/depth'\n",
        "\n",
        "dataset = ImageFolderWithPath(data_dir, transform) # custom dataset"
      ],
      "execution_count": 0,
      "outputs": []
    },
    {
      "metadata": {
        "id": "-RwaFoH83x2k",
        "colab_type": "text"
      },
      "cell_type": "markdown",
      "source": [
        "## Stratified Splitting Dataset"
      ]
    },
    {
      "metadata": {
        "id": "dwNidzkDg8b1",
        "colab_type": "code",
        "colab": {}
      },
      "cell_type": "code",
      "source": [
        "x = [idx for idx in range(len(dataset.imgs))]\n",
        "y = [dataset.imgs[idx][1] for idx in range(len(dataset.imgs))]\n",
        "\n",
        "x_train, x_test, y_train, y_test = train_test_split(x, y, random_state=6, shuffle=True, stratify = y)\n",
        "x_train, x_valid, y_train, y_valid = train_test_split(x_train, y_train, random_state=6, shuffle=True, stratify = y_train)"
      ],
      "execution_count": 0,
      "outputs": []
    },
    {
      "metadata": {
        "id": "aTOUW30Yt9sR",
        "colab_type": "code",
        "colab": {}
      },
      "cell_type": "code",
      "source": [
        "image_datasets = { 'train': torch.utils.data.Subset(dataset, torch.tensor(x_train)),\n",
        "                   'valid': torch.utils.data.Subset(dataset, torch.tensor(x_valid)),\n",
        "                   'test': torch.utils.data.Subset(dataset, torch.tensor(x_test)) }"
      ],
      "execution_count": 0,
      "outputs": []
    },
    {
      "metadata": {
        "id": "rJeiattwyCLG",
        "colab_type": "code",
        "colab": {}
      },
      "cell_type": "code",
      "source": [
        "dataloaders_dict = {x: torch.utils.data.DataLoader(image_datasets[x],\n",
        "                                                   batch_size=batch_size,\n",
        "                                                   shuffle=True,\n",
        "                                                   num_workers=4) \\\n",
        "                    for x in image_datasets.keys()}"
      ],
      "execution_count": 0,
      "outputs": []
    },
    {
      "metadata": {
        "id": "o86MX7v686f_",
        "colab_type": "text"
      },
      "cell_type": "markdown",
      "source": [
        "## Initializing Model"
      ]
    },
    {
      "metadata": {
        "id": "GXNUHp70Y34i",
        "colab_type": "code",
        "colab": {}
      },
      "cell_type": "code",
      "source": [
        "# densenet_201\n",
        "def initialize_model():\n",
        "    model_name = 'densenet_201'\n",
        "    model = models.densenet201(pretrained=True)\n",
        "    model.classifier = torch.nn.Sequential(torch.nn.Linear(model.classifier.in_features, 500),\n",
        "                                          torch.nn.ReLU(),\n",
        "                                          torch.nn.Linear(500, num_classes),\n",
        "                                          torch.nn.LogSoftmax(dim=1))\n",
        "\n",
        "    # Send the model to GPU\n",
        "    model = model.to(device)\n",
        "\n",
        "    #optimizer = torch.optim.SGD(model.classifier.parameters(), lr=0.001, momentum=0.9)\n",
        "    optimizer = torch.optim.Adam(model.classifier.parameters(), lr=0.001)\n",
        "    #criterion = torch.nn.CrossEntropyLoss()\n",
        "    criterion = torch.nn.NLLLoss()\n",
        "    \n",
        "    return model, optimizer, criterion, model_name"
      ],
      "execution_count": 0,
      "outputs": []
    },
    {
      "metadata": {
        "id": "wCYgOcmnKi5k",
        "colab_type": "text"
      },
      "cell_type": "markdown",
      "source": [
        "## Training Model"
      ]
    },
    {
      "metadata": {
        "id": "B8FbnB3U-XAv",
        "colab_type": "code",
        "colab": {}
      },
      "cell_type": "code",
      "source": [
        "# Defining train_model function\n",
        "def train_model(model, model_name, dataloaders, criterion, optimizer, num_epochs=25, is_inception=False):\n",
        "    since = time()\n",
        "\n",
        "    best_model_wts = deepcopy(model.state_dict())\n",
        "    best_acc = 0.0\n",
        "\n",
        "    for epoch in range(num_epochs):\n",
        "        print('Epoch {}/{}'.format(epoch+1, num_epochs))\n",
        "        print('-' * 10)\n",
        "\n",
        "        # Each epoch has a training and validation phase\n",
        "        for phase in ['train', 'valid']:\n",
        "            if phase == 'train':\n",
        "                model.train()  # Set model to training mode\n",
        "            else:\n",
        "                model.eval()   # Set model to evaluate mode\n",
        "\n",
        "            running_loss = 0.0\n",
        "            running_corrects = 0\n",
        "\n",
        "            # Iterate over data.\n",
        "            for inputs, labels, _ in dataloaders_dict[phase]:\n",
        "                inputs = inputs.to(device)\n",
        "                labels = labels.to(device)\n",
        "\n",
        "                # zero the parameter gradients\n",
        "                optimizer.zero_grad()\n",
        "\n",
        "                # forward\n",
        "                # track history if only in train\n",
        "                with torch.set_grad_enabled(phase == 'train'):\n",
        "                    # Get model outputs and calculate loss\n",
        "\n",
        "                    outputs = model(inputs)\n",
        "                    loss = criterion(outputs, labels)\n",
        "\n",
        "                    _, preds = torch.max(outputs, 1)\n",
        "\n",
        "                    # backward + optimize only if in training phase\n",
        "                    if phase == 'train':\n",
        "                        loss.backward()\n",
        "                        optimizer.step()\n",
        "\n",
        "                # statistics\n",
        "                running_loss += loss.item() * inputs.size(0)\n",
        "                running_corrects += torch.sum(preds == labels.data)\n",
        "\n",
        "            epoch_loss = running_loss / len(dataloaders[phase].dataset)\n",
        "            epoch_acc = running_corrects.double() / len(dataloaders[phase].dataset)\n",
        "\n",
        "            print('{} Loss: {:.4f} Acc: {:.4f}'.format(phase, epoch_loss, epoch_acc))\n",
        "\n",
        "            # deep copy the model\n",
        "            if phase == 'valid' and epoch_acc > best_acc:\n",
        "                print('Accuracy increased ({:.6f} --> {:.6f}).'.format(\n",
        "                best_acc, epoch_acc))\n",
        "                best_acc = epoch_acc\n",
        "                best_model_wts = deepcopy(model.state_dict())\n",
        "\n",
        "        # stop training if accuracy equals to 1.0\n",
        "        if epoch_acc == 1.0:\n",
        "            break\n",
        "        print()\n",
        "\n",
        "    time_elapsed = time() - since\n",
        "    print('Training complete in {:.0f}m {:.0f}s'.format(time_elapsed // 60, time_elapsed % 60))\n",
        "    print('Best val Acc: {:4f}'.format(best_acc))\n",
        "\n",
        "    # load best model weights\n",
        "    model.load_state_dict(best_model_wts)\n",
        "    return model"
      ],
      "execution_count": 0,
      "outputs": []
    },
    {
      "metadata": {
        "id": "Pv8rWCPW889-",
        "colab_type": "code",
        "outputId": "f7c967d5-7c30-4256-b978-ba3c8bc5db58",
        "colab": {
          "base_uri": "https://localhost:8080/",
          "height": 1157
        }
      },
      "cell_type": "code",
      "source": [
        "model, optimizer, criterion, model_name = initialize_model()\n",
        "model = train_model(model, model_name, dataloaders_dict, criterion, optimizer, num_epochs=num_epochs)\n",
        "model_path = f'{root_path}/model_{model_name}.pth'\n",
        "\n",
        "torch.save(model.state_dict(), model_path)"
      ],
      "execution_count": 14,
      "outputs": [
        {
          "output_type": "stream",
          "text": [
            "/usr/local/lib/python3.6/dist-packages/torchvision/models/densenet.py:212: UserWarning: nn.init.kaiming_normal is now deprecated in favor of nn.init.kaiming_normal_.\n",
            "  nn.init.kaiming_normal(m.weight.data)\n",
            "Downloading: \"https://download.pytorch.org/models/densenet201-c1103571.pth\" to /root/.torch/models/densenet201-c1103571.pth\n",
            "100%|██████████| 81131730/81131730 [00:03<00:00, 24623933.59it/s]\n"
          ],
          "name": "stderr"
        },
        {
          "output_type": "stream",
          "text": [
            "Epoch 1/20\n",
            "----------\n",
            "train Loss: 1.9388 Acc: 0.2222\n",
            "valid Loss: 1.2956 Acc: 0.2222\n",
            "Accuracy increased (0.000000 --> 0.222222).\n",
            "\n",
            "Epoch 2/20\n",
            "----------\n",
            "train Loss: 1.2231 Acc: 0.4444\n",
            "valid Loss: 1.2129 Acc: 0.4444\n",
            "Accuracy increased (0.222222 --> 0.444444).\n",
            "\n",
            "Epoch 3/20\n",
            "----------\n",
            "train Loss: 1.2006 Acc: 0.4815\n",
            "valid Loss: 1.0832 Acc: 0.4444\n",
            "\n",
            "Epoch 4/20\n",
            "----------\n",
            "train Loss: 1.0184 Acc: 0.5556\n",
            "valid Loss: 1.0659 Acc: 0.5556\n",
            "Accuracy increased (0.444444 --> 0.555556).\n",
            "\n",
            "Epoch 5/20\n",
            "----------\n",
            "train Loss: 1.1579 Acc: 0.4074\n",
            "valid Loss: 0.9800 Acc: 0.6667\n",
            "Accuracy increased (0.555556 --> 0.666667).\n",
            "\n",
            "Epoch 6/20\n",
            "----------\n",
            "train Loss: 0.6117 Acc: 0.8889\n",
            "valid Loss: 0.8828 Acc: 0.6667\n",
            "\n",
            "Epoch 7/20\n",
            "----------\n",
            "train Loss: 0.9073 Acc: 0.5926\n",
            "valid Loss: 0.7506 Acc: 0.8889\n",
            "Accuracy increased (0.666667 --> 0.888889).\n",
            "\n",
            "Epoch 8/20\n",
            "----------\n",
            "train Loss: 0.6375 Acc: 0.9259\n",
            "valid Loss: 0.6548 Acc: 0.8889\n",
            "\n",
            "Epoch 9/20\n",
            "----------\n",
            "train Loss: 0.3539 Acc: 0.8889\n",
            "valid Loss: 0.5522 Acc: 0.8889\n",
            "\n",
            "Epoch 10/20\n",
            "----------\n",
            "train Loss: 0.7285 Acc: 0.7407\n",
            "valid Loss: 0.4035 Acc: 1.0000\n",
            "Accuracy increased (0.888889 --> 1.000000).\n",
            "Training complete in 0m 27s\n",
            "Best val Acc: 1.000000\n"
          ],
          "name": "stdout"
        }
      ]
    },
    {
      "metadata": {
        "id": "tt_X3JbzT98B",
        "colab_type": "text"
      },
      "cell_type": "markdown",
      "source": [
        "## Loading Model"
      ]
    },
    {
      "metadata": {
        "id": "_PFpsNY7S6HD",
        "colab_type": "code",
        "colab": {}
      },
      "cell_type": "code",
      "source": [
        "model.load_state_dict(torch.load(model_path))"
      ],
      "execution_count": 0,
      "outputs": []
    },
    {
      "metadata": {
        "id": "vg5CSt5PVLkT",
        "colab_type": "text"
      },
      "cell_type": "markdown",
      "source": [
        "## Predicting"
      ]
    },
    {
      "metadata": {
        "id": "p5jEUGB6jQYb",
        "colab_type": "code",
        "outputId": "d3a96bc5-07bf-4d3f-9c7f-83b9eebf0a72",
        "colab": {
          "base_uri": "https://localhost:8080/",
          "height": 164
        }
      },
      "cell_type": "code",
      "source": [
        "# track test loss \n",
        "classes = dataset.classes\n",
        "testloader = dataloaders_dict['test']\n",
        "test_loss = 0.0\n",
        "class_correct = list(0. for i in range(4))\n",
        "class_total = list(0. for i in range(4))\n",
        "\n",
        "model.eval()\n",
        "\n",
        "# iterate over test data\n",
        "# only works for even lengths of testloader\n",
        "for data, target, _ in testloader:\n",
        "    data, target = data.to(device), target.to(device)\n",
        "    output = model(data)\n",
        "    loss = criterion(output, target)\n",
        "    test_loss += loss.item()*data.size(0)\n",
        "    _, pred = torch.max(output, 1)    \n",
        "    correct_tensor = pred.eq(target.data.view_as(pred))\n",
        "    correct = np.squeeze(correct_tensor.cpu().numpy())\n",
        "    for i in range(batch_size):\n",
        "        label = target.data[i]\n",
        "        class_correct[int(label)] += correct[i].item()\n",
        "        class_total[int(label)] += 1\n",
        "\n",
        "# calculate avg test loss\n",
        "test_loss = test_loss/len(testloader.dataset)\n",
        "print('Test Loss: {:.6f}\\n'.format(test_loss))\n",
        "\n",
        "for i in range(4):\n",
        "    if class_total[i] > 0:\n",
        "        print('Test Accuracy of %4s: %2d%% (%2d/%2d)' % (\n",
        "            classes[i], 100 * class_correct[i] / class_total[i],\n",
        "            np.sum(class_correct[i]), np.sum(class_total[i])))\n",
        "    else:\n",
        "        print('Test Accuracy of %4s: N/A (no training examples)' % (classes[i]))\n",
        "\n",
        "print('\\nTest Accuracy (Overall): %2d%% (%2d/%2d)' % (\n",
        "    100. * np.sum(class_correct) / np.sum(class_total),\n",
        "    np.sum(class_correct), np.sum(class_total)))"
      ],
      "execution_count": 16,
      "outputs": [
        {
          "output_type": "stream",
          "text": [
            "Test Loss: 0.489863\n",
            "\n",
            "Test Accuracy of Dulce: 100% ( 2/ 2)\n",
            "Test Accuracy of Igor: 100% ( 2/ 2)\n",
            "Test Accuracy of Lais: 100% ( 6/ 6)\n",
            "Test Accuracy of Walnei: 100% ( 2/ 2)\n",
            "\n",
            "Test Accuracy (Overall): 100% (12/12)\n"
          ],
          "name": "stdout"
        }
      ]
    },
    {
      "metadata": {
        "id": "hnF2apa4A0BH",
        "colab_type": "text"
      },
      "cell_type": "markdown",
      "source": [
        "## Sanity Checking"
      ]
    },
    {
      "metadata": {
        "id": "fic8U_F-K0FQ",
        "colab_type": "code",
        "colab": {}
      },
      "cell_type": "code",
      "source": [
        "def view_classify(img, ps, num_classes, path, label):\n",
        "  \n",
        "  ps = ps.data.numpy().squeeze()\n",
        "  \n",
        "  fig = plt.figure(1)\n",
        "  gridspec.GridSpec(1,3)\n",
        "\n",
        "  # original image\n",
        "  plt.subplot2grid((1,3), (0,0))\n",
        "  plt.imshow(cv2.imread(path.replace('depth', '2d')))\n",
        "  plt.title(f'Original Label: {classes[label]}')\n",
        "  plt.axis('off')\n",
        "\n",
        "  # depth image\n",
        "  plt.subplot2grid((1,3), (0,1))\n",
        "  plt.imshow(cv2.imread(path), 'gray')\n",
        "  plt.title('Depth Image')\n",
        "  plt.axis('off')\n",
        "\n",
        "  # class probabilities\n",
        "  plt.subplot2grid((1,3), (0,2))\n",
        "  plt.barh(np.arange(num_classes), ps)\n",
        "  plt.yticks(np.arange(num_classes), classes)\n",
        "  xticks = [0.0, 0.25, 0.5, 0.75, 1]\n",
        "  plt.xticks(xticks, [int(x*100) for x in xticks])\n",
        "  plt.title('Class Probabilities')\n",
        "  plt.xlabel('Probabilities (%)')\n",
        "  plt.ylabel('Class (person)')\n",
        "  plt.xlim(0, 1)\n",
        "\n",
        "  # fit subplots and save fig\n",
        "  fig.tight_layout()\n",
        "  fig.set_size_inches(w=10,h=4)"
      ],
      "execution_count": 0,
      "outputs": []
    },
    {
      "metadata": {
        "id": "2t1lcSuQkgzu",
        "colab_type": "code",
        "colab": {
          "base_uri": "https://localhost:8080/",
          "height": 313
        },
        "outputId": "802699d1-96be-48f2-d824-6e3a95b8c3a3"
      },
      "cell_type": "code",
      "source": [
        "# obtain one batch of test images\n",
        "dataiter = iter(testloader)\n",
        "images, labels, path = dataiter.next()\n",
        "img = images[1]\n",
        "img = img.view(1, img.shape[0], img.shape[1], img.shape[2])\n",
        "img = img.to(device)\n",
        "\n",
        "# get sample outputs\n",
        "outputs = model(img)\n",
        "ps = torch.exp(outputs)\n",
        "\n",
        "view_classify(img.cpu(), ps.cpu(), num_classes, path[1], labels[1])"
      ],
      "execution_count": 18,
      "outputs": [
        {
          "output_type": "display_data",
          "data": {
            "image/png": "[encoded data removed]",
            "text/plain": [
              "<matplotlib.figure.Figure at 0x7f47a117bda0>"
            ]
          },
          "metadata": {
            "tags": []
          }
        }
      ]
    }
  ]
}